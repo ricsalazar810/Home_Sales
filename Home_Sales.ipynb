{
  "cells": [
    {
      "cell_type": "code",
      "execution_count": null,
      "metadata": {
        "colab": {
          "base_uri": "https://localhost:8080/"
        },
        "id": "a_KW73O2e3dw",
        "outputId": "2fb1cd19-69a5-4735-81f5-12f3aa6b0f0d"
      },
      "outputs": [
        {
          "output_type": "stream",
          "name": "stdout",
          "text": [
            "\r0% [Working]\r            \rHit:1 http://archive.ubuntu.com/ubuntu jammy InRelease\n",
            "\r0% [Connecting to security.ubuntu.com (185.125.190.82)] [Connected to cloud.r-project.org (108.139.1\r                                                                                                    \rHit:2 http://archive.ubuntu.com/ubuntu jammy-updates InRelease\n",
            "\r0% [Waiting for headers] [Connecting to security.ubuntu.com (185.125.190.82)] [Waiting for headers] \r                                                                                                    \rHit:3 https://cloud.r-project.org/bin/linux/ubuntu jammy-cran40/ InRelease\n",
            "\r0% [Waiting for headers] [Connecting to security.ubuntu.com (185.125.190.82)] [Connected to r2u.stat\r                                                                                                    \rHit:4 http://archive.ubuntu.com/ubuntu jammy-backports InRelease\n",
            "\r0% [Waiting for headers] [Waiting for headers] [Waiting for headers] [Connected to ppa.launchpadcont\r                                                                                                    \rHit:5 https://developer.download.nvidia.com/compute/cuda/repos/ubuntu2204/x86_64  InRelease\n",
            "Hit:6 http://security.ubuntu.com/ubuntu jammy-security InRelease\n",
            "Hit:7 https://r2u.stat.illinois.edu/ubuntu jammy InRelease\n",
            "Hit:8 https://ppa.launchpadcontent.net/deadsnakes/ppa/ubuntu jammy InRelease\n",
            "Hit:9 https://ppa.launchpadcontent.net/graphics-drivers/ppa/ubuntu jammy InRelease\n",
            "Hit:10 https://ppa.launchpadcontent.net/ubuntugis/ppa/ubuntu jammy InRelease\n",
            "Reading package lists... Done\n",
            "W: Skipping acquire of configured file 'main/source/Sources' as repository 'https://r2u.stat.illinois.edu/ubuntu jammy InRelease' does not seem to provide it (sources.list entry misspelt?)\n"
          ]
        }
      ],
      "source": [
        "import os\n",
        "\n",
        "# Install Java\n",
        "!apt-get update\n",
        "!apt-get install openjdk-11-jdk-headless -qq > /dev/null\n",
        "\n",
        "# Download and install Spark\n",
        "!wget -q https://archive.apache.org/dist/spark/spark-3.4.0/spark-3.4.0-bin-hadoop3.tgz\n",
        "!tar xf spark-3.4.0-bin-hadoop3.tgz\n",
        "!pip install -q findspark\n",
        "\n",
        "# Set environment variables\n",
        "os.environ[\"JAVA_HOME\"] = \"/usr/lib/jvm/java-11-openjdk-amd64\"\n",
        "os.environ[\"SPARK_HOME\"] = \"/content/spark-3.4.0-bin-hadoop3\"\n",
        "\n",
        "# Initialize Spark\n",
        "import findspark\n",
        "findspark.init()"
      ]
    },
    {
      "cell_type": "code",
      "execution_count": null,
      "metadata": {
        "id": "2XbWNf1Te5fM"
      },
      "outputs": [],
      "source": [
        "# Import packages\n",
        "from pyspark.sql import SparkSession\n",
        "import time\n",
        "\n",
        "# Create a SparkSession\n",
        "spark = SparkSession.builder.appName(\"SparkSQL\").getOrCreate()"
      ]
    },
    {
      "cell_type": "code",
      "execution_count": null,
      "metadata": {
        "id": "wOJqxG_RPSwp"
      },
      "outputs": [],
      "source": [
        "# 1. Read in the AWS S3 bucket into a DataFrame.\n",
        "from pyspark import SparkFiles\n",
        "url = \"https://2u-data-curriculum-team.s3.amazonaws.com/dataviz-classroom/v1.2/22-big-data/home_sales_revised.csv\"\n",
        "spark.sparkContext.addFile(url)\n",
        "df = spark.read.csv(SparkFiles.get(\"home_sales_revised.csv\"), header=True, inferSchema=True)\n",
        "\n"
      ]
    },
    {
      "cell_type": "code",
      "execution_count": null,
      "metadata": {
        "id": "RoljcJ7WPpnm",
        "colab": {
          "base_uri": "https://localhost:8080/"
        },
        "outputId": "f0e523ac-91f8-4d27-a982-bef4ae2916d4"
      },
      "outputs": [
        {
          "output_type": "stream",
          "name": "stdout",
          "text": [
            "+--------------------+----------+----------+------+--------+---------+-----------+--------+------+----------+----+\n",
            "|                  id|      date|date_built| price|bedrooms|bathrooms|sqft_living|sqft_lot|floors|waterfront|view|\n",
            "+--------------------+----------+----------+------+--------+---------+-----------+--------+------+----------+----+\n",
            "|f8a53099-ba1c-47d...|2022-04-08|      2016|936923|       4|        3|       3167|   11733|     2|         1|  76|\n",
            "|7530a2d8-1ae3-451...|2021-06-13|      2013|379628|       2|        2|       2235|   14384|     1|         0|  23|\n",
            "|43de979c-0bf0-4c9...|2019-04-12|      2014|417866|       2|        2|       2127|   10575|     2|         0|   0|\n",
            "|b672c137-b88c-48b...|2019-10-16|      2016|239895|       2|        2|       1631|   11149|     2|         0|   0|\n",
            "|e0726d4d-d595-407...|2022-01-08|      2017|424418|       3|        2|       2249|   13878|     2|         0|   4|\n",
            "+--------------------+----------+----------+------+--------+---------+-----------+--------+------+----------+----+\n",
            "\n"
          ]
        }
      ],
      "source": [
        "# 2. Create a temporary view of the DataFrame.\n",
        "df.createOrReplaceTempView('home_sales')\n",
        "spark.sql(\"SELECT * FROM home_sales LIMIT 5\").show()\n"
      ]
    },
    {
      "cell_type": "code",
      "execution_count": null,
      "metadata": {
        "id": "L6fkwOeOmqvq",
        "colab": {
          "base_uri": "https://localhost:8080/"
        },
        "outputId": "14ea3849-fce4-49d5-98fb-299db424161a"
      },
      "outputs": [
        {
          "output_type": "stream",
          "name": "stdout",
          "text": [
            "+----+---------+\n",
            "|year|avg_price|\n",
            "+----+---------+\n",
            "|2019| 300263.7|\n",
            "|2020|298353.78|\n",
            "|2021|301819.44|\n",
            "|2022|296363.88|\n",
            "+----+---------+\n",
            "\n"
          ]
        }
      ],
      "source": [
        "# 3. What is the average price for a four bedroom house sold per year, rounded to two decimal places?\n",
        "query_3 = \"\"\"\n",
        "SELECT\n",
        "    YEAR(date) as year,\n",
        "    ROUND(AVG(price), 2) as avg_price\n",
        "FROM home_sales\n",
        "WHERE bedrooms = 4\n",
        "GROUP BY YEAR(date)\n",
        "ORDER BY year\"\"\"\n",
        "spark.sql(query_3).show()\n"
      ]
    },
    {
      "cell_type": "code",
      "execution_count": null,
      "metadata": {
        "id": "l8p_tUS8h8it",
        "colab": {
          "base_uri": "https://localhost:8080/"
        },
        "outputId": "90eb583e-c3ea-4757-ce0c-51fc908429ed"
      },
      "outputs": [
        {
          "output_type": "stream",
          "name": "stdout",
          "text": [
            "+----------+---------+\n",
            "|date_built|avg_price|\n",
            "+----------+---------+\n",
            "|      2010|292859.62|\n",
            "|      2011|291117.47|\n",
            "|      2012|293683.19|\n",
            "|      2013|295962.27|\n",
            "|      2014|290852.27|\n",
            "|      2015| 288770.3|\n",
            "|      2016|290555.07|\n",
            "|      2017|292676.79|\n",
            "+----------+---------+\n",
            "\n"
          ]
        }
      ],
      "source": [
        "# 4. What is the average price of a home for each year the home was built,\n",
        "# that have 3 bedrooms and 3 bathrooms, rounded to two decimal places?\n",
        "query_4 = \"\"\"\n",
        "SELECT\n",
        "    date_built,\n",
        "    ROUND(AVG(price), 2) as avg_price\n",
        "FROM home_sales\n",
        "WHERE bedrooms = 3 AND bathrooms = 3\n",
        "GROUP BY date_built\n",
        "ORDER BY date_built\"\"\"\n",
        "spark.sql(query_4).show()\n"
      ]
    },
    {
      "cell_type": "code",
      "execution_count": null,
      "metadata": {
        "id": "Y-Eytz64liDU",
        "colab": {
          "base_uri": "https://localhost:8080/"
        },
        "outputId": "bdc8a0cc-acf8-4d50-eb7c-00fcaec6f81a"
      },
      "outputs": [
        {
          "output_type": "stream",
          "name": "stdout",
          "text": [
            "+----------+---------+\n",
            "|date_built|avg_price|\n",
            "+----------+---------+\n",
            "|      2010|285010.22|\n",
            "|      2011|276553.81|\n",
            "|      2012|307539.97|\n",
            "|      2013|303676.79|\n",
            "|      2014|298264.72|\n",
            "|      2015|297609.97|\n",
            "|      2016| 293965.1|\n",
            "|      2017|280317.58|\n",
            "+----------+---------+\n",
            "\n"
          ]
        }
      ],
      "source": [
        "# 5. What is the average price of a home for each year the home was built,\n",
        "# that have 3 bedrooms, 3 bathrooms, with two floors,\n",
        "# and are greater than or equal to 2,000 square feet, rounded to two decimal places?\n",
        "query_5 = \"\"\"\n",
        "SELECT\n",
        "    date_built,\n",
        "    ROUND(AVG(price), 2) as avg_price\n",
        "FROM home_sales\n",
        "WHERE bedrooms = 3\n",
        "    AND bathrooms = 3\n",
        "    AND floors = 2\n",
        "    AND sqft_living >= 2000\n",
        "GROUP BY date_built\n",
        "ORDER BY date_built\"\"\"\n",
        "spark.sql(query_5).show()\n"
      ]
    },
    {
      "cell_type": "code",
      "execution_count": null,
      "metadata": {
        "colab": {
          "base_uri": "https://localhost:8080/"
        },
        "id": "GUrfgOX1pCRd",
        "outputId": "3c1b28a4-4aff-4726-b484-40c1b59eae5e"
      },
      "outputs": [
        {
          "output_type": "stream",
          "name": "stdout",
          "text": [
            "+----+----------+\n",
            "|view| avg_price|\n",
            "+----+----------+\n",
            "| 100| 1026669.5|\n",
            "|  99|1061201.42|\n",
            "|  98|1053739.33|\n",
            "|  97|1129040.15|\n",
            "|  96|1017815.92|\n",
            "|  95| 1054325.6|\n",
            "|  94| 1033536.2|\n",
            "|  93|1026006.06|\n",
            "|  92| 970402.55|\n",
            "|  91|1137372.73|\n",
            "|  90|1062654.16|\n",
            "|  89|1107839.15|\n",
            "|  88|1031719.35|\n",
            "|  87| 1072285.2|\n",
            "|  86|1070444.25|\n",
            "|  85|1056336.74|\n",
            "|  84|1117233.13|\n",
            "|  83|1033965.93|\n",
            "|  82| 1063498.0|\n",
            "|  81|1053472.79|\n",
            "+----+----------+\n",
            "only showing top 20 rows\n",
            "\n",
            "--- 0.938129186630249 seconds ---\n"
          ]
        }
      ],
      "source": [
        "# 6. What is the average price of a home per \"view\" rating, rounded to two decimal places,\n",
        "# having an average home price greater than or equal to $350,000? Order by descending view rating.\n",
        "# Although this is a small dataset, determine the run time for this query.\n",
        "\n",
        "start_time = time.time()\n",
        "query_6 = \"\"\"\n",
        "SELECT\n",
        "    view,\n",
        "    ROUND(AVG(price), 2) as avg_price\n",
        "FROM home_sales\n",
        "GROUP BY view\n",
        "HAVING AVG(price) >= 350000\n",
        "ORDER BY view DESC\"\"\"\n",
        "spark.sql(query_6).show()\n",
        "\n",
        "\n",
        "print(\"--- %s seconds ---\" % (time.time() - start_time))"
      ]
    },
    {
      "cell_type": "code",
      "execution_count": null,
      "metadata": {
        "id": "KAhk3ZD2tFy8",
        "colab": {
          "base_uri": "https://localhost:8080/"
        },
        "outputId": "feae5c60-9b74-4dd6-da42-02d10468b79f"
      },
      "outputs": [
        {
          "output_type": "execute_result",
          "data": {
            "text/plain": [
              "DataFrame[]"
            ]
          },
          "metadata": {},
          "execution_count": 15
        }
      ],
      "source": [
        "# 7. Cache the the temporary table home_sales.\n",
        "spark.sql(\"CACHE TABLE home_sales\")"
      ]
    },
    {
      "cell_type": "code",
      "execution_count": null,
      "metadata": {
        "id": "4opVhbvxtL-i",
        "colab": {
          "base_uri": "https://localhost:8080/"
        },
        "outputId": "794cdafc-facf-420a-c222-11a53631a87e"
      },
      "outputs": [
        {
          "output_type": "execute_result",
          "data": {
            "text/plain": [
              "True"
            ]
          },
          "metadata": {},
          "execution_count": 16
        }
      ],
      "source": [
        "# 8. Check if the table is cached.\n",
        "spark.catalog.isCached('home_sales')"
      ]
    },
    {
      "cell_type": "code",
      "execution_count": null,
      "metadata": {
        "colab": {
          "base_uri": "https://localhost:8080/"
        },
        "id": "5GnL46lwTSEk",
        "outputId": "f5a677c4-dead-42fd-f0d4-08cc2e4b0118"
      },
      "outputs": [
        {
          "output_type": "stream",
          "name": "stdout",
          "text": [
            "+----+----------+\n",
            "|view| avg_price|\n",
            "+----+----------+\n",
            "| 100| 1026669.5|\n",
            "|  99|1061201.42|\n",
            "|  98|1053739.33|\n",
            "|  97|1129040.15|\n",
            "|  96|1017815.92|\n",
            "|  95| 1054325.6|\n",
            "|  94| 1033536.2|\n",
            "|  93|1026006.06|\n",
            "|  92| 970402.55|\n",
            "|  91|1137372.73|\n",
            "|  90|1062654.16|\n",
            "|  89|1107839.15|\n",
            "|  88|1031719.35|\n",
            "|  87| 1072285.2|\n",
            "|  86|1070444.25|\n",
            "|  85|1056336.74|\n",
            "|  84|1117233.13|\n",
            "|  83|1033965.93|\n",
            "|  82| 1063498.0|\n",
            "|  81|1053472.79|\n",
            "+----+----------+\n",
            "only showing top 20 rows\n",
            "\n",
            "--- 0.493999719619751 seconds ---\n"
          ]
        }
      ],
      "source": [
        "# 9. Using the cached data, run the last query above, that calculates\n",
        "# the average price of a home per \"view\" rating, rounded to two decimal places,\n",
        "# having an average home price greater than or equal to $350,000.\n",
        "# Determine the runtime and compare it to the uncached runtime.\n",
        "\n",
        "start_time = time.time()\n",
        "\n",
        "query_9 = \"\"\"\n",
        "SELECT\n",
        "    view,\n",
        "    ROUND(AVG(price), 2) as avg_price\n",
        "FROM home_sales\n",
        "GROUP BY view\n",
        "HAVING AVG(price) >= 350000\n",
        "ORDER BY view DESC\"\"\"\n",
        "\n",
        "spark.sql(query_9).show()\n",
        "\n",
        "\n",
        "print(\"--- %s seconds ---\" % (time.time() - start_time))\n"
      ]
    },
    {
      "cell_type": "code",
      "execution_count": null,
      "metadata": {
        "id": "Qm12WN9isHBR"
      },
      "outputs": [],
      "source": [
        "# 10. Partition by the \"date_built\" field on the formatted parquet home sales data\n",
        "df.write.partitionBy(\"date_built\").mode(\"overwrite\").parquet(\"home_sales_partitioned\")"
      ]
    },
    {
      "cell_type": "code",
      "execution_count": null,
      "metadata": {
        "id": "AZ7BgY61sRqY"
      },
      "outputs": [],
      "source": [
        "# 11. Read the parquet formatted data.\n",
        "parquet_df = spark.read.parquet(\"home_sales_partitioned\")\n"
      ]
    },
    {
      "cell_type": "code",
      "execution_count": null,
      "metadata": {
        "id": "J6MJkHfvVcvh"
      },
      "outputs": [],
      "source": [
        "# 12. Create a temporary table for the parquet data.\n",
        "parquet_df.createOrReplaceTempView('home_sales_p')"
      ]
    },
    {
      "cell_type": "code",
      "execution_count": null,
      "metadata": {
        "colab": {
          "base_uri": "https://localhost:8080/"
        },
        "id": "G_Vhb52rU1Sn",
        "outputId": "ab7af94b-2ee7-43fa-bd5c-c8bf6d2005c7"
      },
      "outputs": [
        {
          "output_type": "stream",
          "name": "stdout",
          "text": [
            "+----+----------+\n",
            "|view| avg_price|\n",
            "+----+----------+\n",
            "| 100| 1026669.5|\n",
            "|  99|1061201.42|\n",
            "|  98|1053739.33|\n",
            "|  97|1129040.15|\n",
            "|  96|1017815.92|\n",
            "|  95| 1054325.6|\n",
            "|  94| 1033536.2|\n",
            "|  93|1026006.06|\n",
            "|  92| 970402.55|\n",
            "|  91|1137372.73|\n",
            "|  90|1062654.16|\n",
            "|  89|1107839.15|\n",
            "|  88|1031719.35|\n",
            "|  87| 1072285.2|\n",
            "|  86|1070444.25|\n",
            "|  85|1056336.74|\n",
            "|  84|1117233.13|\n",
            "|  83|1033965.93|\n",
            "|  82| 1063498.0|\n",
            "|  81|1053472.79|\n",
            "+----+----------+\n",
            "only showing top 20 rows\n",
            "\n",
            "--- 1.4333808422088623 seconds ---\n"
          ]
        }
      ],
      "source": [
        "# 13. Using the parquet DataFrame, run the last query above, that calculates\n",
        "# the average price of a home per \"view\" rating, rounded to two decimal places,\n",
        "# having an average home price greater than or equal to $350,000.\n",
        "# Determine the runtime and compare it to the cached runtime.\n",
        "\n",
        "start_time = time.time()\n",
        "\n",
        "query_13 = \"\"\"\n",
        "SELECT\n",
        "    view,\n",
        "    ROUND(AVG(price), 2) as avg_price\n",
        "FROM home_sales_p\n",
        "GROUP BY view\n",
        "HAVING AVG(price) >= 350000\n",
        "ORDER BY view DESC\"\"\"\n",
        "\n",
        "spark.sql(query_13).show()\n",
        "\n",
        "print(\"--- %s seconds ---\" % (time.time() - start_time))"
      ]
    },
    {
      "cell_type": "code",
      "execution_count": null,
      "metadata": {
        "id": "hjjYzQGjtbq8",
        "colab": {
          "base_uri": "https://localhost:8080/"
        },
        "outputId": "ffae4114-d809-4193-e8aa-490a18784745"
      },
      "outputs": [
        {
          "output_type": "execute_result",
          "data": {
            "text/plain": [
              "DataFrame[]"
            ]
          },
          "metadata": {},
          "execution_count": 23
        }
      ],
      "source": [
        "# 14. Uncache the home_sales temporary table.\n",
        "spark.sql(\"UNCACHE TABLE home_sales\")"
      ]
    },
    {
      "cell_type": "code",
      "execution_count": null,
      "metadata": {
        "id": "Sy9NBvO7tlmm",
        "colab": {
          "base_uri": "https://localhost:8080/"
        },
        "outputId": "20ddae22-8894-4719-84c5-a624c4787df7"
      },
      "outputs": [
        {
          "output_type": "execute_result",
          "data": {
            "text/plain": [
              "False"
            ]
          },
          "metadata": {},
          "execution_count": 24
        }
      ],
      "source": [
        "# 15. Check if the home_sales is no longer cached\n",
        "spark.catalog.isCached('home_sales')\n"
      ]
    },
    {
      "cell_type": "code",
      "execution_count": null,
      "metadata": {
        "id": "Si-BNruRUGK3"
      },
      "outputs": [],
      "source": []
    }
  ],
  "metadata": {
    "colab": {
      "provenance": []
    },
    "gpuClass": "standard",
    "kernelspec": {
      "display_name": "Python 3 (ipykernel)",
      "language": "python",
      "name": "python3"
    },
    "language_info": {
      "codemirror_mode": {
        "name": "ipython",
        "version": 3
      },
      "file_extension": ".py",
      "mimetype": "text/x-python",
      "name": "python",
      "nbconvert_exporter": "python",
      "pygments_lexer": "ipython3",
      "version": "3.10.4"
    },
    "nteract": {
      "version": "0.28.0"
    }
  },
  "nbformat": 4,
  "nbformat_minor": 0
}